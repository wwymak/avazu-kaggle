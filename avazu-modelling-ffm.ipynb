{
 "cells": [
  {
   "cell_type": "code",
   "execution_count": 1,
   "metadata": {},
   "outputs": [],
   "source": [
    "import numpy as np\n",
    "import pandas as pd\n",
    "import xlearn as xl\n",
    "from sklearn.model_selection import train_test_split\n",
    "from sklearn import preprocessing\n",
    "from sklearn import metrics"
   ]
  },
  {
   "cell_type": "code",
   "execution_count": 2,
   "metadata": {},
   "outputs": [],
   "source": [
    "ffm_model = xl.FFMModel(task='binary', \n",
    "                        lr=0.2, \n",
    "                        epoch=10, \n",
    "                        reg_lambda=0.002,\n",
    "                        metric='f1')"
   ]
  },
  {
   "cell_type": "code",
   "execution_count": 21,
   "metadata": {},
   "outputs": [],
   "source": [
    "mdlLR = xl.LRModel(task='binary', init=0.1, epoch=20, lr=0.1, reg_lambda=1, opt='sgd')"
   ]
  },
  {
   "cell_type": "code",
   "execution_count": 2,
   "metadata": {},
   "outputs": [],
   "source": [
    "df = pd.read_csv('data/train_subset.csv')"
   ]
  },
  {
   "cell_type": "code",
   "execution_count": 3,
   "metadata": {},
   "outputs": [],
   "source": [
    "df.drop('id', axis=1, inplace=True)"
   ]
  },
  {
   "cell_type": "code",
   "execution_count": 4,
   "metadata": {},
   "outputs": [],
   "source": [
    "df['hour_of_day'] = df['hour'].map(lambda x: int(str(x)[-2:]))\n",
    "df.drop('hour', axis=1, inplace=True)"
   ]
  },
  {
   "cell_type": "code",
   "execution_count": 5,
   "metadata": {},
   "outputs": [],
   "source": [
    "y = df.click\n",
    "X = df[['hour_of_day', 'C1', 'banner_pos', 'site_id', 'site_domain',\n",
    "       'site_category', 'app_id', 'app_domain', 'app_category', 'device_id',\n",
    "       'device_ip', 'device_model', 'device_type', 'device_conn_type', 'C14',\n",
    "       'C15', 'C16', 'C17', 'C18', 'C19', 'C20', 'C21']]\n",
    "\n",
    "X = pd.DataFrame({col: X[col].astype('category').cat.codes for col in X}, index=X.index)\n",
    "mapping = {col: {n: cat for n, cat in enumerate(X[col].astype('category').cat.categories)} \n",
    "     for col in X}\n"
   ]
  },
  {
   "cell_type": "code",
   "execution_count": 6,
   "metadata": {},
   "outputs": [
    {
     "data": {
      "text/html": [
       "<div>\n",
       "<style scoped>\n",
       "    .dataframe tbody tr th:only-of-type {\n",
       "        vertical-align: middle;\n",
       "    }\n",
       "\n",
       "    .dataframe tbody tr th {\n",
       "        vertical-align: top;\n",
       "    }\n",
       "\n",
       "    .dataframe thead th {\n",
       "        text-align: right;\n",
       "    }\n",
       "</style>\n",
       "<table border=\"1\" class=\"dataframe\">\n",
       "  <thead>\n",
       "    <tr style=\"text-align: right;\">\n",
       "      <th></th>\n",
       "      <th>hour_of_day</th>\n",
       "      <th>C1</th>\n",
       "      <th>banner_pos</th>\n",
       "      <th>site_id</th>\n",
       "      <th>site_domain</th>\n",
       "      <th>site_category</th>\n",
       "      <th>app_id</th>\n",
       "      <th>app_domain</th>\n",
       "      <th>app_category</th>\n",
       "      <th>device_id</th>\n",
       "      <th>...</th>\n",
       "      <th>device_type</th>\n",
       "      <th>device_conn_type</th>\n",
       "      <th>C14</th>\n",
       "      <th>C15</th>\n",
       "      <th>C16</th>\n",
       "      <th>C17</th>\n",
       "      <th>C18</th>\n",
       "      <th>C19</th>\n",
       "      <th>C20</th>\n",
       "      <th>C21</th>\n",
       "    </tr>\n",
       "  </thead>\n",
       "  <tbody>\n",
       "    <tr>\n",
       "      <th>0</th>\n",
       "      <td>0</td>\n",
       "      <td>2</td>\n",
       "      <td>0</td>\n",
       "      <td>215</td>\n",
       "      <td>1503</td>\n",
       "      <td>2</td>\n",
       "      <td>1518</td>\n",
       "      <td>62</td>\n",
       "      <td>0</td>\n",
       "      <td>27538</td>\n",
       "      <td>...</td>\n",
       "      <td>1</td>\n",
       "      <td>1</td>\n",
       "      <td>162</td>\n",
       "      <td>3</td>\n",
       "      <td>2</td>\n",
       "      <td>40</td>\n",
       "      <td>0</td>\n",
       "      <td>1</td>\n",
       "      <td>0</td>\n",
       "      <td>19</td>\n",
       "    </tr>\n",
       "    <tr>\n",
       "      <th>1</th>\n",
       "      <td>0</td>\n",
       "      <td>2</td>\n",
       "      <td>0</td>\n",
       "      <td>215</td>\n",
       "      <td>1503</td>\n",
       "      <td>2</td>\n",
       "      <td>1518</td>\n",
       "      <td>62</td>\n",
       "      <td>0</td>\n",
       "      <td>27538</td>\n",
       "      <td>...</td>\n",
       "      <td>1</td>\n",
       "      <td>0</td>\n",
       "      <td>160</td>\n",
       "      <td>3</td>\n",
       "      <td>2</td>\n",
       "      <td>40</td>\n",
       "      <td>0</td>\n",
       "      <td>1</td>\n",
       "      <td>60</td>\n",
       "      <td>19</td>\n",
       "    </tr>\n",
       "    <tr>\n",
       "      <th>2</th>\n",
       "      <td>0</td>\n",
       "      <td>2</td>\n",
       "      <td>0</td>\n",
       "      <td>215</td>\n",
       "      <td>1503</td>\n",
       "      <td>2</td>\n",
       "      <td>1518</td>\n",
       "      <td>62</td>\n",
       "      <td>0</td>\n",
       "      <td>27538</td>\n",
       "      <td>...</td>\n",
       "      <td>1</td>\n",
       "      <td>0</td>\n",
       "      <td>160</td>\n",
       "      <td>3</td>\n",
       "      <td>2</td>\n",
       "      <td>40</td>\n",
       "      <td>0</td>\n",
       "      <td>1</td>\n",
       "      <td>60</td>\n",
       "      <td>19</td>\n",
       "    </tr>\n",
       "    <tr>\n",
       "      <th>3</th>\n",
       "      <td>0</td>\n",
       "      <td>2</td>\n",
       "      <td>0</td>\n",
       "      <td>215</td>\n",
       "      <td>1503</td>\n",
       "      <td>2</td>\n",
       "      <td>1518</td>\n",
       "      <td>62</td>\n",
       "      <td>0</td>\n",
       "      <td>27538</td>\n",
       "      <td>...</td>\n",
       "      <td>1</td>\n",
       "      <td>0</td>\n",
       "      <td>162</td>\n",
       "      <td>3</td>\n",
       "      <td>2</td>\n",
       "      <td>40</td>\n",
       "      <td>0</td>\n",
       "      <td>1</td>\n",
       "      <td>60</td>\n",
       "      <td>19</td>\n",
       "    </tr>\n",
       "    <tr>\n",
       "      <th>4</th>\n",
       "      <td>0</td>\n",
       "      <td>2</td>\n",
       "      <td>1</td>\n",
       "      <td>1687</td>\n",
       "      <td>910</td>\n",
       "      <td>0</td>\n",
       "      <td>1518</td>\n",
       "      <td>62</td>\n",
       "      <td>0</td>\n",
       "      <td>27538</td>\n",
       "      <td>...</td>\n",
       "      <td>1</td>\n",
       "      <td>0</td>\n",
       "      <td>256</td>\n",
       "      <td>3</td>\n",
       "      <td>2</td>\n",
       "      <td>79</td>\n",
       "      <td>0</td>\n",
       "      <td>1</td>\n",
       "      <td>0</td>\n",
       "      <td>32</td>\n",
       "    </tr>\n",
       "  </tbody>\n",
       "</table>\n",
       "<p>5 rows × 22 columns</p>\n",
       "</div>"
      ],
      "text/plain": [
       "   hour_of_day  C1  banner_pos  site_id  site_domain  site_category  app_id  \\\n",
       "0            0   2           0      215         1503              2    1518   \n",
       "1            0   2           0      215         1503              2    1518   \n",
       "2            0   2           0      215         1503              2    1518   \n",
       "3            0   2           0      215         1503              2    1518   \n",
       "4            0   2           1     1687          910              0    1518   \n",
       "\n",
       "   app_domain  app_category  device_id ...   device_type  device_conn_type  \\\n",
       "0          62             0      27538 ...             1                 1   \n",
       "1          62             0      27538 ...             1                 0   \n",
       "2          62             0      27538 ...             1                 0   \n",
       "3          62             0      27538 ...             1                 0   \n",
       "4          62             0      27538 ...             1                 0   \n",
       "\n",
       "   C14  C15  C16  C17  C18  C19  C20  C21  \n",
       "0  162    3    2   40    0    1    0   19  \n",
       "1  160    3    2   40    0    1   60   19  \n",
       "2  160    3    2   40    0    1   60   19  \n",
       "3  162    3    2   40    0    1   60   19  \n",
       "4  256    3    2   79    0    1    0   32  \n",
       "\n",
       "[5 rows x 22 columns]"
      ]
     },
     "execution_count": 6,
     "metadata": {},
     "output_type": "execute_result"
    }
   ],
   "source": [
    "X.head()"
   ]
  },
  {
   "cell_type": "code",
   "execution_count": 8,
   "metadata": {},
   "outputs": [],
   "source": [
    "X_train, X_val, y_train, y_val = train_test_split(X, y, test_size=0.2, random_state=0)"
   ]
  },
  {
   "cell_type": "code",
   "execution_count": 24,
   "metadata": {},
   "outputs": [],
   "source": [
    "mdlLR.fit(X_train, y_train, eval_set=[X_val, y_val], is_lock_free=False)"
   ]
  },
  {
   "cell_type": "code",
   "execution_count": 13,
   "metadata": {},
   "outputs": [
    {
     "data": {
      "text/plain": [
       "'1'"
      ]
     },
     "execution_count": 13,
     "metadata": {},
     "output_type": "execute_result"
    }
   ],
   "source": [
    "str(int(y_train.iloc[1110]))"
   ]
  },
  {
   "cell_type": "code",
   "execution_count": 35,
   "metadata": {},
   "outputs": [
    {
     "data": {
      "text/plain": [
       "5.811498130388056"
      ]
     },
     "execution_count": 35,
     "metadata": {},
     "output_type": "execute_result"
    }
   ],
   "source": [
    "y_pred = mdlLR.predict(X_val)\n",
    "metrics.log_loss(y_val, y_pred)"
   ]
  },
  {
   "cell_type": "code",
   "execution_count": 16,
   "metadata": {},
   "outputs": [],
   "source": [
    "with open('data/train_ffm.txt' , 'w') as f:\n",
    "    for row in range(X_train.shape[0]):\n",
    "        output = ''\n",
    "        x_data = X_train.iloc[row].to_dict()\n",
    "        y_data = y_train.iloc[row]\n",
    "        output += str(int(y_data))\n",
    "        for idx,key in enumerate(x_data.keys()):\n",
    "            output += \" \" + str(idx) + ':' + str(idx) + \":\" + str(x_data[key])     \n",
    "            \n",
    "        output += '\\n'\n",
    "        f.write(output)"
   ]
  },
  {
   "cell_type": "code",
   "execution_count": 17,
   "metadata": {},
   "outputs": [],
   "source": [
    "with open('data/val_ffm.txt' , 'w') as f:\n",
    "    for row in range(X_val.shape[0]):\n",
    "        output = ''\n",
    "        x_data = X_val.iloc[row].to_dict()\n",
    "        y_data = y_val.iloc[row]\n",
    "        output += str(int(y_data))\n",
    "        for idx,key in enumerate(x_data.keys()):\n",
    "            output += \" \" + str(idx) + ':' + str(idx) + \":\" + str(x_data[key])            \n",
    "        output += '\\n'\n",
    "        f.write(output)"
   ]
  },
  {
   "cell_type": "code",
   "execution_count": null,
   "metadata": {},
   "outputs": [],
   "source": [
    "\n",
    "ffm_model.fit('data/train_ffm.txt', eval_set='data/val_ffm.txt')\n",
    " # generate predictions\n",
    "# y_pred = ffm_model.predict('data/val_ffm.txt')"
   ]
  },
  {
   "cell_type": "code",
   "execution_count": 14,
   "metadata": {},
   "outputs": [],
   "source": [
    "# y = df.click\n",
    "# x = df[['hour_of_day', 'C1', 'banner_pos', 'site_id', 'site_domain',\n",
    "#        'site_category', 'app_id', 'app_domain', 'app_category', 'device_id',\n",
    "#        'device_ip', 'device_model', 'device_type', 'device_conn_type', 'C14',\n",
    "#        'C15', 'C16', 'C17', 'C18', 'C19', 'C20', 'C21']]\n",
    "\n",
    "# df_val = df[df.hour >= 14103000]\n",
    "# df_train = df[df.hour < 14103000]\n",
    "\n",
    "df_val = df[df.hour >= 14103000]\n",
    "df_train = df[df.hour < 14103000]\n",
    "\n",
    "y_train = df_train.click\n",
    "x_train = df_train[['hour_of_day', 'C1', 'banner_pos', 'site_id', 'site_domain',\n",
    "       'site_category', 'app_id', 'app_domain', 'app_category', 'device_id',\n",
    "       'device_ip', 'device_model', 'device_type', 'device_conn_type', 'C14',\n",
    "       'C15', 'C16', 'C17', 'C18', 'C19', 'C20', 'C21']]\n",
    "\n",
    "y_test = df_val.click\n",
    "x_test = df_val[['hour_of_day', 'C1', 'banner_pos', 'site_id', 'site_domain',\n",
    "       'site_category', 'app_id', 'app_domain', 'app_category', 'device_id',\n",
    "       'device_ip', 'device_model', 'device_type', 'device_conn_type', 'C14',\n",
    "       'C15', 'C16', 'C17', 'C18', 'C19', 'C20', 'C21']]"
   ]
  },
  {
   "cell_type": "code",
   "execution_count": null,
   "metadata": {},
   "outputs": [],
   "source": [
    "pd.DataFrame({col: df[col].cat.codes for col in df}, index=df.index)\n",
    "{col: {n: cat for n, cat in enumerate(df[col].astype('category').cat.categories)} \n",
    "     for col in df}"
   ]
  }
 ],
 "metadata": {
  "kernelspec": {
   "display_name": "Python 3",
   "language": "python",
   "name": "python3"
  },
  "language_info": {
   "codemirror_mode": {
    "name": "ipython",
    "version": 3
   },
   "file_extension": ".py",
   "mimetype": "text/x-python",
   "name": "python",
   "nbconvert_exporter": "python",
   "pygments_lexer": "ipython3",
   "version": "3.6.4"
  }
 },
 "nbformat": 4,
 "nbformat_minor": 2
}
