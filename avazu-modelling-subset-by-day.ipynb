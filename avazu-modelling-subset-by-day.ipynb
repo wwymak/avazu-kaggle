{
 "cells": [
  {
   "cell_type": "code",
   "execution_count": 1,
   "metadata": {},
   "outputs": [
    {
     "name": "stderr",
     "output_type": "stream",
     "text": [
      "/home/ec2-user/anaconda3/envs/python3/lib/python3.6/importlib/_bootstrap.py:219: RuntimeWarning: numpy.dtype size changed, may indicate binary incompatibility. Expected 96, got 88\n",
      "  return f(*args, **kwds)\n",
      "/home/ec2-user/anaconda3/envs/python3/lib/python3.6/importlib/_bootstrap.py:219: RuntimeWarning: numpy.dtype size changed, may indicate binary incompatibility. Expected 96, got 88\n",
      "  return f(*args, **kwds)\n",
      "/home/ec2-user/anaconda3/envs/python3/lib/python3.6/site-packages/sklearn/ensemble/weight_boosting.py:29: DeprecationWarning: numpy.core.umath_tests is an internal NumPy module and should not be imported. It will be removed in a future NumPy release.\n",
      "  from numpy.core.umath_tests import inner1d\n"
     ]
    }
   ],
   "source": [
    "import numpy as np\n",
    "import pandas as pd\n",
    "from sklearn.model_selection import train_test_split\n",
    "from sklearn.preprocessing import LabelBinarizer, LabelEncoder, OneHotEncoder, MinMaxScaler\n",
    "from sklearn_pandas import DataFrameMapper, gen_features, cross_val_score\n",
    "from sklearn.feature_selection import SelectKBest, chi2\n",
    "from sklearn.decomposition import PCA, KernelPCA\n",
    "from sklearn.pipeline import Pipeline\n",
    "from sklearn.linear_model import LogisticRegression, SGDClassifier, Perceptron, Ridge\n",
    "from sklearn.neighbors import KNeighborsClassifier\n",
    "from sklearn.svm import SVC\n",
    "from sklearn.naive_bayes import MultinomialNB\n",
    "from sklearn.ensemble import RandomForestClassifier\n",
    "from sklearn.externals import joblib\n",
    "from sklearn.metrics import *\n",
    "from scipy import stats\n",
    "import xgboost as xgb"
   ]
  },
  {
   "cell_type": "code",
   "execution_count": 2,
   "metadata": {},
   "outputs": [],
   "source": [
    "np.random.seed(10)"
   ]
  },
  {
   "cell_type": "code",
   "execution_count": 10,
   "metadata": {},
   "outputs": [],
   "source": [
    "df = pd.read_pickle('data/train1.pkl')"
   ]
  },
  {
   "cell_type": "code",
   "execution_count": 5,
   "metadata": {},
   "outputs": [
    {
     "data": {
      "text/plain": [
       "Index(['click', 'hour', 'C1', 'banner_pos', 'site_id', 'site_domain',\n",
       "       'site_category', 'app_id', 'app_domain', 'app_category', 'device_id',\n",
       "       'device_ip', 'device_model', 'device_type', 'device_conn_type', 'C14',\n",
       "       'C15', 'C16', 'C17', 'C18', 'C19', 'C20', 'C21'],\n",
       "      dtype='object')"
      ]
     },
     "execution_count": 5,
     "metadata": {},
     "output_type": "execute_result"
    }
   ],
   "source": [
    "df.columns"
   ]
  },
  {
   "cell_type": "code",
   "execution_count": 6,
   "metadata": {},
   "outputs": [
    {
     "data": {
      "text/plain": [
       "click                     2\n",
       "hour                     24\n",
       "C1                        7\n",
       "banner_pos                7\n",
       "site_id                2865\n",
       "site_domain            3394\n",
       "site_category            22\n",
       "app_id                 4154\n",
       "app_domain              287\n",
       "app_category             31\n",
       "device_id            368962\n",
       "device_ip           1078153\n",
       "device_model           6098\n",
       "device_type               4\n",
       "device_conn_type          4\n",
       "C14                     785\n",
       "C15                       8\n",
       "C16                       9\n",
       "C17                     193\n",
       "C18                       4\n",
       "C19                      44\n",
       "C20                     168\n",
       "C21                      38\n",
       "dtype: int64"
      ]
     },
     "execution_count": 6,
     "metadata": {},
     "output_type": "execute_result"
    }
   ],
   "source": [
    "df.nunique()"
   ]
  },
  {
   "cell_type": "code",
   "execution_count": 12,
   "metadata": {},
   "outputs": [],
   "source": [
    "df['hour_of_day'] = df['hour'].map(lambda x: int(str(x)[-2:]))\n",
    "# df['day'] = df['hour'].map(lambda x: int(str(x)[4:6]))\n",
    "# df['month'] = df['hour'].map(lambda x: int(str(x)[2:4]))\n"
   ]
  },
  {
   "cell_type": "code",
   "execution_count": 13,
   "metadata": {},
   "outputs": [],
   "source": [
    "# pick colums with less possible categories to keep things simple-- since it will be a very large matrix\n",
    "# after one hot encoding\n",
    "\n",
    "df_cols = ['click', 'hour_of_day', 'C1', 'banner_pos',\n",
    "       'site_category', 'app_category',\n",
    "         'device_type', 'device_conn_type', \n",
    "       'C15', 'C16', 'C17', 'C18', 'C19', 'C21']\n",
    "\n",
    "feature_cols = ['hour_of_day', 'C1', 'banner_pos',\n",
    "       'site_category', 'app_category',\n",
    "         'device_type', 'device_conn_type', \n",
    "       'C15', 'C16', 'C17', 'C18', 'C19', 'C21']\n",
    "\n",
    "df = df[df_cols]\n"
   ]
  },
  {
   "cell_type": "code",
   "execution_count": 14,
   "metadata": {},
   "outputs": [
    {
     "data": {
      "text/html": [
       "<div>\n",
       "<style scoped>\n",
       "    .dataframe tbody tr th:only-of-type {\n",
       "        vertical-align: middle;\n",
       "    }\n",
       "\n",
       "    .dataframe tbody tr th {\n",
       "        vertical-align: top;\n",
       "    }\n",
       "\n",
       "    .dataframe thead th {\n",
       "        text-align: right;\n",
       "    }\n",
       "</style>\n",
       "<table border=\"1\" class=\"dataframe\">\n",
       "  <thead>\n",
       "    <tr style=\"text-align: right;\">\n",
       "      <th></th>\n",
       "      <th>click</th>\n",
       "      <th>hour_of_day</th>\n",
       "      <th>C1</th>\n",
       "      <th>banner_pos</th>\n",
       "      <th>site_category</th>\n",
       "      <th>app_category</th>\n",
       "      <th>device_type</th>\n",
       "      <th>device_conn_type</th>\n",
       "      <th>C15</th>\n",
       "      <th>C16</th>\n",
       "      <th>C17</th>\n",
       "      <th>C18</th>\n",
       "      <th>C19</th>\n",
       "      <th>C21</th>\n",
       "    </tr>\n",
       "  </thead>\n",
       "  <tbody>\n",
       "    <tr>\n",
       "      <th>0</th>\n",
       "      <td>0</td>\n",
       "      <td>0</td>\n",
       "      <td>1005</td>\n",
       "      <td>0</td>\n",
       "      <td>28905ebd</td>\n",
       "      <td>07d7df22</td>\n",
       "      <td>1</td>\n",
       "      <td>2</td>\n",
       "      <td>320</td>\n",
       "      <td>50</td>\n",
       "      <td>1722</td>\n",
       "      <td>0</td>\n",
       "      <td>35</td>\n",
       "      <td>79</td>\n",
       "    </tr>\n",
       "    <tr>\n",
       "      <th>1</th>\n",
       "      <td>0</td>\n",
       "      <td>0</td>\n",
       "      <td>1005</td>\n",
       "      <td>0</td>\n",
       "      <td>28905ebd</td>\n",
       "      <td>07d7df22</td>\n",
       "      <td>1</td>\n",
       "      <td>0</td>\n",
       "      <td>320</td>\n",
       "      <td>50</td>\n",
       "      <td>1722</td>\n",
       "      <td>0</td>\n",
       "      <td>35</td>\n",
       "      <td>79</td>\n",
       "    </tr>\n",
       "    <tr>\n",
       "      <th>2</th>\n",
       "      <td>0</td>\n",
       "      <td>0</td>\n",
       "      <td>1005</td>\n",
       "      <td>0</td>\n",
       "      <td>28905ebd</td>\n",
       "      <td>07d7df22</td>\n",
       "      <td>1</td>\n",
       "      <td>0</td>\n",
       "      <td>320</td>\n",
       "      <td>50</td>\n",
       "      <td>1722</td>\n",
       "      <td>0</td>\n",
       "      <td>35</td>\n",
       "      <td>79</td>\n",
       "    </tr>\n",
       "    <tr>\n",
       "      <th>3</th>\n",
       "      <td>0</td>\n",
       "      <td>0</td>\n",
       "      <td>1005</td>\n",
       "      <td>0</td>\n",
       "      <td>28905ebd</td>\n",
       "      <td>07d7df22</td>\n",
       "      <td>1</td>\n",
       "      <td>0</td>\n",
       "      <td>320</td>\n",
       "      <td>50</td>\n",
       "      <td>1722</td>\n",
       "      <td>0</td>\n",
       "      <td>35</td>\n",
       "      <td>79</td>\n",
       "    </tr>\n",
       "    <tr>\n",
       "      <th>4</th>\n",
       "      <td>0</td>\n",
       "      <td>0</td>\n",
       "      <td>1005</td>\n",
       "      <td>1</td>\n",
       "      <td>0569f928</td>\n",
       "      <td>07d7df22</td>\n",
       "      <td>1</td>\n",
       "      <td>0</td>\n",
       "      <td>320</td>\n",
       "      <td>50</td>\n",
       "      <td>2161</td>\n",
       "      <td>0</td>\n",
       "      <td>35</td>\n",
       "      <td>157</td>\n",
       "    </tr>\n",
       "  </tbody>\n",
       "</table>\n",
       "</div>"
      ],
      "text/plain": [
       "   click  hour_of_day    C1  banner_pos site_category app_category  \\\n",
       "0      0            0  1005           0      28905ebd     07d7df22   \n",
       "1      0            0  1005           0      28905ebd     07d7df22   \n",
       "2      0            0  1005           0      28905ebd     07d7df22   \n",
       "3      0            0  1005           0      28905ebd     07d7df22   \n",
       "4      0            0  1005           1      0569f928     07d7df22   \n",
       "\n",
       "   device_type  device_conn_type  C15  C16   C17  C18  C19  C21  \n",
       "0            1                 2  320   50  1722    0   35   79  \n",
       "1            1                 0  320   50  1722    0   35   79  \n",
       "2            1                 0  320   50  1722    0   35   79  \n",
       "3            1                 0  320   50  1722    0   35   79  \n",
       "4            1                 0  320   50  2161    0   35  157  "
      ]
     },
     "execution_count": 14,
     "metadata": {},
     "output_type": "execute_result"
    }
   ],
   "source": [
    "df.head()"
   ]
  },
  {
   "cell_type": "code",
   "execution_count": 31,
   "metadata": {},
   "outputs": [],
   "source": [
    "# mapper2 = DataFrameMapper([\n",
    "#     (['C1'], LabelBinarizer()),\n",
    "#     (['banner_pos'], LabelBinarizer()),\n",
    "#     (['device_type'], LabelBinarizer()),\n",
    "#     (['device_conn_type'], LabelBinarizer()),\n",
    "#     (['C15'], LabelBinarizer()),\n",
    "#     (['C16'], LabelBinarizer()),\n",
    "#     (['C18'], LabelBinarizer()),\n",
    "#     (['hour_of_day'], LabelBinarizer()),\n",
    "#     (['day'], LabelBinarizer())\n",
    "# ], input_df=True)\n",
    "\n",
    "\n",
    "feature_def = gen_features(\n",
    "    columns=feature_cols,\n",
    "    classes=[LabelBinarizer])\n",
    "# classes=[MinMaxScaler, LabelBinarizer])\n",
    "    \n",
    "mapper = DataFrameMapper(feature_def, input_df=True)\n",
    "# feature_select = sklearn.feature_selection.SelectKBest(k=100)"
   ]
  },
  {
   "cell_type": "code",
   "execution_count": 43,
   "metadata": {},
   "outputs": [],
   "source": [
    "X = df[feature_cols]\n",
    "y = df.click\n",
    "\n",
    "for col in X.columns:\n",
    "    X[col].astype('str')"
   ]
  },
  {
   "cell_type": "code",
   "execution_count": 44,
   "metadata": {},
   "outputs": [],
   "source": [
    "X_train, X_test, y_train, y_test = train_test_split(X, y)"
   ]
  },
  {
   "cell_type": "code",
   "execution_count": 45,
   "metadata": {},
   "outputs": [
    {
     "data": {
      "text/html": [
       "<div>\n",
       "<style scoped>\n",
       "    .dataframe tbody tr th:only-of-type {\n",
       "        vertical-align: middle;\n",
       "    }\n",
       "\n",
       "    .dataframe tbody tr th {\n",
       "        vertical-align: top;\n",
       "    }\n",
       "\n",
       "    .dataframe thead th {\n",
       "        text-align: right;\n",
       "    }\n",
       "</style>\n",
       "<table border=\"1\" class=\"dataframe\">\n",
       "  <thead>\n",
       "    <tr style=\"text-align: right;\">\n",
       "      <th></th>\n",
       "      <th>hour_of_day</th>\n",
       "      <th>C1</th>\n",
       "      <th>banner_pos</th>\n",
       "      <th>site_category</th>\n",
       "      <th>app_category</th>\n",
       "      <th>device_type</th>\n",
       "      <th>device_conn_type</th>\n",
       "      <th>C15</th>\n",
       "      <th>C16</th>\n",
       "      <th>C17</th>\n",
       "      <th>C18</th>\n",
       "      <th>C19</th>\n",
       "      <th>C21</th>\n",
       "    </tr>\n",
       "  </thead>\n",
       "  <tbody>\n",
       "    <tr>\n",
       "      <th>2249607</th>\n",
       "      <td>10</td>\n",
       "      <td>1005</td>\n",
       "      <td>0</td>\n",
       "      <td>28905ebd</td>\n",
       "      <td>07d7df22</td>\n",
       "      <td>1</td>\n",
       "      <td>0</td>\n",
       "      <td>320</td>\n",
       "      <td>50</td>\n",
       "      <td>1882</td>\n",
       "      <td>3</td>\n",
       "      <td>35</td>\n",
       "      <td>13</td>\n",
       "    </tr>\n",
       "    <tr>\n",
       "      <th>234579</th>\n",
       "      <td>1</td>\n",
       "      <td>1005</td>\n",
       "      <td>0</td>\n",
       "      <td>3e814130</td>\n",
       "      <td>07d7df22</td>\n",
       "      <td>1</td>\n",
       "      <td>0</td>\n",
       "      <td>300</td>\n",
       "      <td>250</td>\n",
       "      <td>2295</td>\n",
       "      <td>2</td>\n",
       "      <td>35</td>\n",
       "      <td>23</td>\n",
       "    </tr>\n",
       "    <tr>\n",
       "      <th>1731229</th>\n",
       "      <td>8</td>\n",
       "      <td>1005</td>\n",
       "      <td>0</td>\n",
       "      <td>50e219e0</td>\n",
       "      <td>0f2161f8</td>\n",
       "      <td>1</td>\n",
       "      <td>0</td>\n",
       "      <td>320</td>\n",
       "      <td>50</td>\n",
       "      <td>2229</td>\n",
       "      <td>0</td>\n",
       "      <td>687</td>\n",
       "      <td>48</td>\n",
       "    </tr>\n",
       "    <tr>\n",
       "      <th>3625300</th>\n",
       "      <td>18</td>\n",
       "      <td>1005</td>\n",
       "      <td>0</td>\n",
       "      <td>f028772b</td>\n",
       "      <td>07d7df22</td>\n",
       "      <td>1</td>\n",
       "      <td>0</td>\n",
       "      <td>320</td>\n",
       "      <td>50</td>\n",
       "      <td>2374</td>\n",
       "      <td>3</td>\n",
       "      <td>39</td>\n",
       "      <td>23</td>\n",
       "    </tr>\n",
       "    <tr>\n",
       "      <th>2048166</th>\n",
       "      <td>9</td>\n",
       "      <td>1005</td>\n",
       "      <td>0</td>\n",
       "      <td>28905ebd</td>\n",
       "      <td>07d7df22</td>\n",
       "      <td>1</td>\n",
       "      <td>2</td>\n",
       "      <td>320</td>\n",
       "      <td>50</td>\n",
       "      <td>2502</td>\n",
       "      <td>0</td>\n",
       "      <td>35</td>\n",
       "      <td>221</td>\n",
       "    </tr>\n",
       "  </tbody>\n",
       "</table>\n",
       "</div>"
      ],
      "text/plain": [
       "         hour_of_day    C1  banner_pos site_category app_category  \\\n",
       "2249607           10  1005           0      28905ebd     07d7df22   \n",
       "234579             1  1005           0      3e814130     07d7df22   \n",
       "1731229            8  1005           0      50e219e0     0f2161f8   \n",
       "3625300           18  1005           0      f028772b     07d7df22   \n",
       "2048166            9  1005           0      28905ebd     07d7df22   \n",
       "\n",
       "         device_type  device_conn_type  C15  C16   C17  C18  C19  C21  \n",
       "2249607            1                 0  320   50  1882    3   35   13  \n",
       "234579             1                 0  300  250  2295    2   35   23  \n",
       "1731229            1                 0  320   50  2229    0  687   48  \n",
       "3625300            1                 0  320   50  2374    3   39   23  \n",
       "2048166            1                 2  320   50  2502    0   35  221  "
      ]
     },
     "execution_count": 45,
     "metadata": {},
     "output_type": "execute_result"
    }
   ],
   "source": [
    "X_train.head()"
   ]
  },
  {
   "cell_type": "code",
   "execution_count": 46,
   "metadata": {},
   "outputs": [],
   "source": [
    "\n",
    "pipe_forest = Pipeline([\n",
    "    ('featurize', mapper),\n",
    "    ('reduce_dim', KernelPCA(n_jobs=-1, kernel=\"rbf\")),\n",
    "    ('random_forest', RandomForestClassifier(n_jobs=-1, random_state=10, n_estimators=100))])"
   ]
  },
  {
   "cell_type": "code",
   "execution_count": null,
   "metadata": {},
   "outputs": [],
   "source": [
    "pipe_forest.fit(X_train, y_train)\n",
    "pipe_forest.predict(X_test, y_test)\n",
    "report_rf = classification_report( y_test, y_prediction )\n",
    "print(report_rf)"
   ]
  },
  {
   "cell_type": "code",
   "execution_count": null,
   "metadata": {},
   "outputs": [],
   "source": [
    "init_test = np.round(cross_val_score(pipe, X=X_train , y=y_train, scoring='f1', n_jobs = -1), 2)"
   ]
  },
  {
   "cell_type": "code",
   "execution_count": null,
   "metadata": {},
   "outputs": [],
   "source": [
    "from hyperopt import hp\n",
    "\n",
    "# Parameter search space\n",
    "space = {}\n",
    "\n",
    "# One of (1,1), (1,2), or (1,3)\n",
    "space['vec__ngram_range'] = hp.choice('vec__ngram_range', [(1,1), (1,2), (1,3)])\n",
    "\n",
    "# Random integer in [1,3]\n",
    "space['vec__min_df'] = 1+hp.randint('vec__min_df', 3)\n",
    "\n",
    "# Uniform between 0.7 and 1\n",
    "space['vec__max_df'] = hp.uniform('vec__max_df', 0.7, 1.0)\n",
    "    \n",
    "# One of True or False\n",
    "space['vec__sublinear_tf'] = hp.choice('vec__sublinear_tf', [True, False])\n",
    "    \n",
    "# Random number between 50 and 100\n",
    "space['kbest__percentile'] = hp.uniform('kbest__percentile', 50, 100)\n",
    "    \n",
    "# Random number between 0 and 1\n",
    "space['clf__l1_ratio'] = hp.uniform('clf__l1_ratio', 0.0, 1.0)\n",
    "      \n",
    "# Log-uniform between 1e-9 and 1e-4\n",
    "space['clf__alpha'] = hp.loguniform('clf__alpha', -9*np.log(10), -4*np.log(10))\n",
    "      \n",
    "# Random integer in 20:5:80\n",
    "space['clf__n_iter'] = 20 + 5*hp.randint('clf__n_iter', 12)"
   ]
  },
  {
   "cell_type": "code",
   "execution_count": 4,
   "metadata": {},
   "outputs": [
    {
     "ename": "NameError",
     "evalue": "name 'featurize' is not defined",
     "output_type": "error",
     "traceback": [
      "\u001b[0;31m------------------------------------------------------------\u001b[0m",
      "\u001b[0;31mNameError\u001b[0m                  Traceback (most recent call last)",
      "\u001b[0;32m<ipython-input-4-c0f8e00417d1>\u001b[0m in \u001b[0;36m<module>\u001b[0;34m()\u001b[0m\n\u001b[1;32m      1\u001b[0m pipeline = Pipeline([\n\u001b[0;32m----> 2\u001b[0;31m     \u001b[0;34m(\u001b[0m\u001b[0;34m'featurize'\u001b[0m\u001b[0;34m,\u001b[0m \u001b[0mfeaturize\u001b[0m\u001b[0;34m(\u001b[0m\u001b[0mfeatures\u001b[0m\u001b[0;34m)\u001b[0m\u001b[0;34m)\u001b[0m\u001b[0;34m,\u001b[0m\u001b[0;34m\u001b[0m\u001b[0m\n\u001b[0m\u001b[1;32m      3\u001b[0m     \u001b[0;34m(\u001b[0m\u001b[0;34m'forest'\u001b[0m\u001b[0;34m,\u001b[0m \u001b[0mRandomForestClassifier\u001b[0m\u001b[0;34m(\u001b[0m\u001b[0mn_estimators\u001b[0m \u001b[0;34m=\u001b[0m \u001b[0;36m10\u001b[0m\u001b[0;34m)\u001b[0m\u001b[0;34m)\u001b[0m\u001b[0;34m\u001b[0m\u001b[0m\n\u001b[1;32m      4\u001b[0m ])\n\u001b[1;32m      5\u001b[0m \u001b[0;34m\u001b[0m\u001b[0m\n",
      "\u001b[0;31mNameError\u001b[0m: name 'featurize' is not defined"
     ]
    }
   ],
   "source": [
    "pipeline = Pipeline([\n",
    "    ('featurize', featurize(features)), \n",
    "    ('forest', RandomForestClassifier(n_estimators = 10))\n",
    "])\n",
    "\n",
    "pipeline.fit(X, y).predict(df_train)\n",
    "\n",
    "param_grid = dict(forest__n_estimators = [2, 16, 32], forest__criterion = ['gini', 'entropy'])\n",
    "\n",
    "grid_search = GridSearchCV(pipeline, param_grid=param_grid, scoring='accuracy')\n",
    "\n",
    "best_pipeline = grid_search.fit(X, y).best_estimator_\n",
    "best_pipeline.get_params()['forest']\n"
   ]
  },
  {
   "cell_type": "code",
   "execution_count": 29,
   "metadata": {},
   "outputs": [
    {
     "data": {
      "text/plain": [
       "(36210029, 10)"
      ]
     },
     "execution_count": 29,
     "metadata": {},
     "output_type": "execute_result"
    }
   ],
   "source": [
    "X_train.shape"
   ]
  },
  {
   "cell_type": "code",
   "execution_count": null,
   "metadata": {},
   "outputs": [],
   "source": []
  }
 ],
 "metadata": {
  "kernelspec": {
   "display_name": "Python 3",
   "language": "python",
   "name": "python3"
  },
  "language_info": {
   "codemirror_mode": {
    "name": "ipython",
    "version": 3
   },
   "file_extension": ".py",
   "mimetype": "text/x-python",
   "name": "python",
   "nbconvert_exporter": "python",
   "pygments_lexer": "ipython3",
   "version": "3.6.6"
  }
 },
 "nbformat": 4,
 "nbformat_minor": 2
}
