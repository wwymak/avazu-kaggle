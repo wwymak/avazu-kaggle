{
 "cells": [
  {
   "cell_type": "code",
   "execution_count": 1,
   "metadata": {},
   "outputs": [
    {
     "name": "stderr",
     "output_type": "stream",
     "text": [
      "/home/ec2-user/anaconda3/envs/python3/lib/python3.6/importlib/_bootstrap.py:219: RuntimeWarning: numpy.dtype size changed, may indicate binary incompatibility. Expected 96, got 88\n",
      "  return f(*args, **kwds)\n",
      "/home/ec2-user/anaconda3/envs/python3/lib/python3.6/importlib/_bootstrap.py:219: RuntimeWarning: numpy.dtype size changed, may indicate binary incompatibility. Expected 96, got 88\n",
      "  return f(*args, **kwds)\n",
      "/home/ec2-user/anaconda3/envs/python3/lib/python3.6/site-packages/sklearn/ensemble/weight_boosting.py:29: DeprecationWarning: numpy.core.umath_tests is an internal NumPy module and should not be imported. It will be removed in a future NumPy release.\n",
      "  from numpy.core.umath_tests import inner1d\n"
     ]
    }
   ],
   "source": [
    "import numpy as np\n",
    "import pandas as pd\n",
    "from sklearn.model_selection import train_test_split\n",
    "from sklearn.preprocessing import LabelBinarizer, LabelEncoder, OneHotEncoder, MinMaxScaler\n",
    "from sklearn_pandas import DataFrameMapper, gen_features, cross_val_score\n",
    "from sklearn.feature_selection import SelectKBest, chi2\n",
    "from sklearn.decomposition import PCA, KernelPCA\n",
    "from sklearn.pipeline import Pipeline\n",
    "from sklearn.linear_model import LogisticRegression, SGDClassifier, Perceptron, Ridge\n",
    "from sklearn.neighbors import KNeighborsClassifier\n",
    "from sklearn.svm import SVC\n",
    "from sklearn.naive_bayes import MultinomialNB\n",
    "from sklearn.ensemble import RandomForestClassifier\n",
    "from sklearn.externals import joblib\n",
    "from sklearn.metrics import *\n",
    "from scipy import stats\n",
    "import xgboost as xgb"
   ]
  },
  {
   "cell_type": "code",
   "execution_count": 2,
   "metadata": {},
   "outputs": [],
   "source": [
    "np.random.seed(10)"
   ]
  },
  {
   "cell_type": "code",
   "execution_count": 4,
   "metadata": {},
   "outputs": [],
   "source": [
    "df = pd.read_pickle('data/train2.pkl')"
   ]
  },
  {
   "cell_type": "code",
   "execution_count": 5,
   "metadata": {},
   "outputs": [
    {
     "data": {
      "text/plain": [
       "Index(['click', 'hour', 'C1', 'banner_pos', 'site_id', 'site_domain',\n",
       "       'site_category', 'app_id', 'app_domain', 'app_category', 'device_id',\n",
       "       'device_ip', 'device_model', 'device_type', 'device_conn_type', 'C14',\n",
       "       'C15', 'C16', 'C17', 'C18', 'C19', 'C20', 'C21'],\n",
       "      dtype='object')"
      ]
     },
     "execution_count": 5,
     "metadata": {},
     "output_type": "execute_result"
    }
   ],
   "source": [
    "df.columns"
   ]
  },
  {
   "cell_type": "code",
   "execution_count": 7,
   "metadata": {},
   "outputs": [
    {
     "data": {
      "text/plain": [
       "click                     2\n",
       "hour                     24\n",
       "C1                        7\n",
       "banner_pos                7\n",
       "site_id                2865\n",
       "site_domain            3394\n",
       "site_category            22\n",
       "app_id                 4154\n",
       "app_domain              287\n",
       "app_category             31\n",
       "device_id            368962\n",
       "device_ip           1078153\n",
       "device_model           6098\n",
       "device_type               4\n",
       "device_conn_type          4\n",
       "C14                     785\n",
       "C15                       8\n",
       "C16                       9\n",
       "C17                     193\n",
       "C18                       4\n",
       "C19                      44\n",
       "C20                     168\n",
       "C21                      38\n",
       "dtype: int64"
      ]
     },
     "execution_count": 7,
     "metadata": {},
     "output_type": "execute_result"
    }
   ],
   "source": [
    "df.nunique()"
   ]
  },
  {
   "cell_type": "code",
   "execution_count": 6,
   "metadata": {},
   "outputs": [],
   "source": [
    "df['hour_of_day'] = df['hour'].map(lambda x: int(str(x)[-2:]))\n",
    "# df['day'] = df['hour'].map(lambda x: int(str(x)[4:6]))\n",
    "# df['month'] = df['hour'].map(lambda x: int(str(x)[2:4]))\n"
   ]
  },
  {
   "cell_type": "code",
   "execution_count": 7,
   "metadata": {},
   "outputs": [],
   "source": [
    "# pick colums with less possible categories to keep things simple-- since it will be a very large matrix\n",
    "# after one hot encoding\n",
    "\n",
    "# df_cols = ['click', 'hour_of_day', 'C1', 'banner_pos',\n",
    "#        'site_category', 'app_category',\n",
    "#          'device_type', 'device_conn_type', \n",
    "#        'C15', 'C16', 'C17', 'C18']\n",
    "\n",
    "\n",
    "df_cols = ['hour_of_day', 'C1', 'banner_pos', 'device_type', 'device_conn_type', 'C15', 'C16', 'C18', 'click']\n",
    "\n",
    "feature_cols = ['hour_of_day', 'C1', 'banner_pos',\n",
    "         'device_type', 'device_conn_type', \n",
    "       'C15', 'C16', 'C18']\n",
    "\n",
    "df = df[df_cols]\n"
   ]
  },
  {
   "cell_type": "code",
   "execution_count": 8,
   "metadata": {},
   "outputs": [
    {
     "data": {
      "text/html": [
       "<div>\n",
       "<style scoped>\n",
       "    .dataframe tbody tr th:only-of-type {\n",
       "        vertical-align: middle;\n",
       "    }\n",
       "\n",
       "    .dataframe tbody tr th {\n",
       "        vertical-align: top;\n",
       "    }\n",
       "\n",
       "    .dataframe thead th {\n",
       "        text-align: right;\n",
       "    }\n",
       "</style>\n",
       "<table border=\"1\" class=\"dataframe\">\n",
       "  <thead>\n",
       "    <tr style=\"text-align: right;\">\n",
       "      <th></th>\n",
       "      <th>hour_of_day</th>\n",
       "      <th>C1</th>\n",
       "      <th>banner_pos</th>\n",
       "      <th>device_type</th>\n",
       "      <th>device_conn_type</th>\n",
       "      <th>C15</th>\n",
       "      <th>C16</th>\n",
       "      <th>C18</th>\n",
       "      <th>click</th>\n",
       "    </tr>\n",
       "  </thead>\n",
       "  <tbody>\n",
       "    <tr>\n",
       "      <th>4122995</th>\n",
       "      <td>0</td>\n",
       "      <td>1005</td>\n",
       "      <td>0</td>\n",
       "      <td>1</td>\n",
       "      <td>0</td>\n",
       "      <td>320</td>\n",
       "      <td>50</td>\n",
       "      <td>0</td>\n",
       "      <td>0</td>\n",
       "    </tr>\n",
       "    <tr>\n",
       "      <th>4122996</th>\n",
       "      <td>0</td>\n",
       "      <td>1005</td>\n",
       "      <td>0</td>\n",
       "      <td>1</td>\n",
       "      <td>0</td>\n",
       "      <td>320</td>\n",
       "      <td>50</td>\n",
       "      <td>1</td>\n",
       "      <td>0</td>\n",
       "    </tr>\n",
       "    <tr>\n",
       "      <th>4122997</th>\n",
       "      <td>0</td>\n",
       "      <td>1005</td>\n",
       "      <td>0</td>\n",
       "      <td>1</td>\n",
       "      <td>0</td>\n",
       "      <td>320</td>\n",
       "      <td>50</td>\n",
       "      <td>0</td>\n",
       "      <td>0</td>\n",
       "    </tr>\n",
       "    <tr>\n",
       "      <th>4122998</th>\n",
       "      <td>0</td>\n",
       "      <td>1005</td>\n",
       "      <td>0</td>\n",
       "      <td>1</td>\n",
       "      <td>0</td>\n",
       "      <td>320</td>\n",
       "      <td>50</td>\n",
       "      <td>3</td>\n",
       "      <td>1</td>\n",
       "    </tr>\n",
       "    <tr>\n",
       "      <th>4122999</th>\n",
       "      <td>0</td>\n",
       "      <td>1005</td>\n",
       "      <td>0</td>\n",
       "      <td>1</td>\n",
       "      <td>0</td>\n",
       "      <td>320</td>\n",
       "      <td>50</td>\n",
       "      <td>0</td>\n",
       "      <td>0</td>\n",
       "    </tr>\n",
       "  </tbody>\n",
       "</table>\n",
       "</div>"
      ],
      "text/plain": [
       "         hour_of_day    C1  banner_pos  device_type  device_conn_type  C15  \\\n",
       "4122995            0  1005           0            1                 0  320   \n",
       "4122996            0  1005           0            1                 0  320   \n",
       "4122997            0  1005           0            1                 0  320   \n",
       "4122998            0  1005           0            1                 0  320   \n",
       "4122999            0  1005           0            1                 0  320   \n",
       "\n",
       "         C16  C18  click  \n",
       "4122995   50    0      0  \n",
       "4122996   50    1      0  \n",
       "4122997   50    0      0  \n",
       "4122998   50    3      1  \n",
       "4122999   50    0      0  "
      ]
     },
     "execution_count": 8,
     "metadata": {},
     "output_type": "execute_result"
    }
   ],
   "source": [
    "df.head()"
   ]
  },
  {
   "cell_type": "code",
   "execution_count": 9,
   "metadata": {},
   "outputs": [],
   "source": [
    "# mapper2 = DataFrameMapper([\n",
    "#     (['C1'], LabelBinarizer()),\n",
    "#     (['banner_pos'], LabelBinarizer()),\n",
    "#     (['device_type'], LabelBinarizer()),\n",
    "#     (['device_conn_type'], LabelBinarizer()),\n",
    "#     (['C15'], LabelBinarizer()),\n",
    "#     (['C16'], LabelBinarizer()),\n",
    "#     (['C18'], LabelBinarizer()),\n",
    "#     (['hour_of_day'], LabelBinarizer()),\n",
    "#     (['day'], LabelBinarizer())\n",
    "# ], input_df=True)\n",
    "\n",
    "\n",
    "feature_def = gen_features(\n",
    "    columns=feature_cols,\n",
    "    classes=[LabelBinarizer])\n",
    "# classes=[MinMaxScaler, LabelBinarizer])\n",
    "    \n",
    "mapper = DataFrameMapper(feature_def, input_df=True)\n",
    "# feature_select = sklearn.feature_selection.SelectKBest(k=100)"
   ]
  },
  {
   "cell_type": "code",
   "execution_count": 10,
   "metadata": {},
   "outputs": [],
   "source": [
    "X = df[feature_cols]\n",
    "y = df.click\n",
    "\n",
    "# for col in X.columns:\n",
    "#     X[col].astype('str')"
   ]
  },
  {
   "cell_type": "code",
   "execution_count": 11,
   "metadata": {},
   "outputs": [],
   "source": [
    "X_train, X_test, y_train, y_test = train_test_split(X, y)"
   ]
  },
  {
   "cell_type": "code",
   "execution_count": 12,
   "metadata": {},
   "outputs": [
    {
     "data": {
      "text/html": [
       "<div>\n",
       "<style scoped>\n",
       "    .dataframe tbody tr th:only-of-type {\n",
       "        vertical-align: middle;\n",
       "    }\n",
       "\n",
       "    .dataframe tbody tr th {\n",
       "        vertical-align: top;\n",
       "    }\n",
       "\n",
       "    .dataframe thead th {\n",
       "        text-align: right;\n",
       "    }\n",
       "</style>\n",
       "<table border=\"1\" class=\"dataframe\">\n",
       "  <thead>\n",
       "    <tr style=\"text-align: right;\">\n",
       "      <th></th>\n",
       "      <th>hour_of_day</th>\n",
       "      <th>C1</th>\n",
       "      <th>banner_pos</th>\n",
       "      <th>device_type</th>\n",
       "      <th>device_conn_type</th>\n",
       "      <th>C15</th>\n",
       "      <th>C16</th>\n",
       "      <th>C18</th>\n",
       "    </tr>\n",
       "  </thead>\n",
       "  <tbody>\n",
       "    <tr>\n",
       "      <th>7320253</th>\n",
       "      <td>12</td>\n",
       "      <td>1005</td>\n",
       "      <td>0</td>\n",
       "      <td>1</td>\n",
       "      <td>0</td>\n",
       "      <td>320</td>\n",
       "      <td>50</td>\n",
       "      <td>0</td>\n",
       "    </tr>\n",
       "    <tr>\n",
       "      <th>5272550</th>\n",
       "      <td>6</td>\n",
       "      <td>1005</td>\n",
       "      <td>0</td>\n",
       "      <td>1</td>\n",
       "      <td>0</td>\n",
       "      <td>320</td>\n",
       "      <td>50</td>\n",
       "      <td>3</td>\n",
       "    </tr>\n",
       "    <tr>\n",
       "      <th>8632696</th>\n",
       "      <td>18</td>\n",
       "      <td>1005</td>\n",
       "      <td>0</td>\n",
       "      <td>1</td>\n",
       "      <td>0</td>\n",
       "      <td>320</td>\n",
       "      <td>50</td>\n",
       "      <td>0</td>\n",
       "    </tr>\n",
       "    <tr>\n",
       "      <th>6533132</th>\n",
       "      <td>10</td>\n",
       "      <td>1005</td>\n",
       "      <td>0</td>\n",
       "      <td>1</td>\n",
       "      <td>0</td>\n",
       "      <td>320</td>\n",
       "      <td>50</td>\n",
       "      <td>0</td>\n",
       "    </tr>\n",
       "    <tr>\n",
       "      <th>8536846</th>\n",
       "      <td>17</td>\n",
       "      <td>1010</td>\n",
       "      <td>1</td>\n",
       "      <td>4</td>\n",
       "      <td>0</td>\n",
       "      <td>320</td>\n",
       "      <td>50</td>\n",
       "      <td>3</td>\n",
       "    </tr>\n",
       "  </tbody>\n",
       "</table>\n",
       "</div>"
      ],
      "text/plain": [
       "         hour_of_day    C1  banner_pos  device_type  device_conn_type  C15  \\\n",
       "7320253           12  1005           0            1                 0  320   \n",
       "5272550            6  1005           0            1                 0  320   \n",
       "8632696           18  1005           0            1                 0  320   \n",
       "6533132           10  1005           0            1                 0  320   \n",
       "8536846           17  1010           1            4                 0  320   \n",
       "\n",
       "         C16  C18  \n",
       "7320253   50    0  \n",
       "5272550   50    3  \n",
       "8632696   50    0  \n",
       "6533132   50    0  \n",
       "8536846   50    3  "
      ]
     },
     "execution_count": 12,
     "metadata": {},
     "output_type": "execute_result"
    }
   ],
   "source": [
    "X_train.head()"
   ]
  },
  {
   "cell_type": "code",
   "execution_count": 14,
   "metadata": {},
   "outputs": [],
   "source": [
    "\n",
    "pipe_forest = Pipeline([\n",
    "    ('featurize', mapper),\n",
    "#     ('reduce_dim', KernelPCA(n_jobs=-1, kernel=\"rbf\")),\n",
    "    ('random_forest', RandomForestClassifier(n_jobs=-1, random_state=10, n_estimators=100))])"
   ]
  },
  {
   "cell_type": "code",
   "execution_count": 16,
   "metadata": {},
   "outputs": [
    {
     "name": "stdout",
     "output_type": "stream",
     "text": [
      "             precision    recall  f1-score   support\n",
      "\n",
      "          0       0.85      1.00      0.91   1124508\n",
      "          1       0.54      0.02      0.04    209774\n",
      "\n",
      "avg / total       0.80      0.84      0.78   1334282\n",
      "\n"
     ]
    }
   ],
   "source": [
    "pipe_forest.fit(X_train, y_train)\n",
    "y_prediction = pipe_forest.predict(X_test)\n",
    "report_rf = classification_report( y_test, y_prediction )\n",
    "print(report_rf)"
   ]
  },
  {
   "cell_type": "code",
   "execution_count": null,
   "metadata": {},
   "outputs": [],
   "source": [
    "pipe_forest2 = Pipeline([\n",
    "    ('featurize', mapper),\n",
    "#     ('reduce_dim', KernelPCA(n_jobs=-1, kernel=\"rbf\")),\n",
    "    ('random_forest', RandomForestClassifier(n_jobs=-1, random_state=10, n_estimators=100, class_weight=\"balanced\"))])\n",
    "pipe_forest2.fit(X_train, y_train)\n",
    "y_prediction = pipe_forest.predict(X_test)\n",
    "report_rf = classification_report( y_test, y_prediction )\n",
    "print(report_rf)"
   ]
  },
  {
   "cell_type": "markdown",
   "metadata": {},
   "source": [
    "Unfortunately, as was seen before, the classifier did very badly in recall. Would it help to change the prediction threshold?"
   ]
  },
  {
   "cell_type": "code",
   "execution_count": 18,
   "metadata": {},
   "outputs": [],
   "source": [
    "def threshold_prediction(clf, X, thres):\n",
    "    return (clf.predict_proba(X)[:,1] > thres).astype(int)\n",
    "def predict_proba_scoring(thres):\n",
    "    def custom_predict(clf, X, y):\n",
    "        y_predicted = threshold_prediction(clf, X, thres)\n",
    "        return metrics.f1_score(y, y_predicted)\n",
    "    return custom_predict"
   ]
  },
  {
   "cell_type": "code",
   "execution_count": null,
   "metadata": {},
   "outputs": [],
   "source": [
    "pipe_forest.predict_proba(X_train)"
   ]
  },
  {
   "cell_type": "code",
   "execution_count": null,
   "metadata": {},
   "outputs": [],
   "source": [
    "cv_test = []\n",
    "for thres in np.arange(0.05, 0.85, 0.1):\n",
    "    scoring = predict_proba_scoring(thres)\n",
    "    cv_score = cross_val_score(pipe_forest, X_train, y_train, cv=3, scoring=scoring)\n",
    "    print(\"cv score: {} for threshold val {}\".format(cv_score, thres))\n",
    "    cv_test.append(cv_score)"
   ]
  },
  {
   "cell_type": "code",
   "execution_count": null,
   "metadata": {},
   "outputs": [],
   "source": []
  },
  {
   "cell_type": "markdown",
   "metadata": {},
   "source": []
  },
  {
   "cell_type": "code",
   "execution_count": null,
   "metadata": {},
   "outputs": [],
   "source": [
    "from hyperopt import tpe, hp, STATUS_OK, Trials, fmin\n",
    "\n",
    "params = {\n",
    "    'random_forest__max_depth': hp.choice('max_depth', range(1,20)),\n",
    "    'random_forest__max_features': hp.choice('max_features', range(1,150)),\n",
    "    'random_forest__n_estimators': hp.choice('n_estimators', range(50,500)),\n",
    "    'random_forest__criterion': hp.choice('criterion', [\"gini\", \"entropy\"])}\n",
    "\n",
    "best = 0\n",
    "def f(params):\n",
    "    global best\n",
    "    acc = acc_model(params)\n",
    "    if acc > best:\n",
    "        best = acc\n",
    "    print ('new best:', best, params)\n",
    "    return {'loss': -acc, 'status': STATUS_OK}\n",
    "\n",
    "trials = Trials()\n",
    "best = fmin(f, param_space, algo=tpe.suggest, max_evals=100, trials=trials)\n",
    "print ('best:')\n",
    "print (best)\n",
    "# Parameter search space\n",
    "space = {}\n",
    "\n",
    "\n",
    "# One of (1,1), (1,2), or (1,3)\n",
    "space['vec__ngram_range'] = hp.choice('vec__ngram_range', [(1,1), (1,2), (1,3)])\n",
    "\n",
    "# Random integer in [1,3]\n",
    "space['vec__min_df'] = 1+hp.randint('vec__min_df', 3)\n",
    "\n",
    "# Uniform between 0.7 and 1\n",
    "space['vec__max_df'] = hp.uniform('vec__max_df', 0.7, 1.0)\n",
    "    \n",
    "# One of True or False\n",
    "space['vec__sublinear_tf'] = hp.choice('vec__sublinear_tf', [True, False])\n",
    "    \n",
    "# Random number between 50 and 100\n",
    "space['kbest__percentile'] = hp.uniform('kbest__percentile', 50, 100)\n",
    "    \n",
    "# Random number between 0 and 1\n",
    "space['clf__l1_ratio'] = hp.uniform('clf__l1_ratio', 0.0, 1.0)\n",
    "      \n",
    "# Log-uniform between 1e-9 and 1e-4\n",
    "space['clf__alpha'] = hp.loguniform('clf__alpha', -9*np.log(10), -4*np.log(10))\n",
    "      \n",
    "# Random integer in 20:5:80\n",
    "space['clf__n_iter'] = 20 + 5*hp.randint('clf__n_iter', 12)"
   ]
  },
  {
   "cell_type": "code",
   "execution_count": 4,
   "metadata": {},
   "outputs": [
    {
     "ename": "NameError",
     "evalue": "name 'featurize' is not defined",
     "output_type": "error",
     "traceback": [
      "\u001b[0;31m------------------------------------------------------------\u001b[0m",
      "\u001b[0;31mNameError\u001b[0m                  Traceback (most recent call last)",
      "\u001b[0;32m<ipython-input-4-c0f8e00417d1>\u001b[0m in \u001b[0;36m<module>\u001b[0;34m()\u001b[0m\n\u001b[1;32m      1\u001b[0m pipeline = Pipeline([\n\u001b[0;32m----> 2\u001b[0;31m     \u001b[0;34m(\u001b[0m\u001b[0;34m'featurize'\u001b[0m\u001b[0;34m,\u001b[0m \u001b[0mfeaturize\u001b[0m\u001b[0;34m(\u001b[0m\u001b[0mfeatures\u001b[0m\u001b[0;34m)\u001b[0m\u001b[0;34m)\u001b[0m\u001b[0;34m,\u001b[0m\u001b[0;34m\u001b[0m\u001b[0m\n\u001b[0m\u001b[1;32m      3\u001b[0m     \u001b[0;34m(\u001b[0m\u001b[0;34m'forest'\u001b[0m\u001b[0;34m,\u001b[0m \u001b[0mRandomForestClassifier\u001b[0m\u001b[0;34m(\u001b[0m\u001b[0mn_estimators\u001b[0m \u001b[0;34m=\u001b[0m \u001b[0;36m10\u001b[0m\u001b[0;34m)\u001b[0m\u001b[0;34m)\u001b[0m\u001b[0;34m\u001b[0m\u001b[0m\n\u001b[1;32m      4\u001b[0m ])\n\u001b[1;32m      5\u001b[0m \u001b[0;34m\u001b[0m\u001b[0m\n",
      "\u001b[0;31mNameError\u001b[0m: name 'featurize' is not defined"
     ]
    }
   ],
   "source": [
    "pipeline = Pipeline([\n",
    "    ('featurize', featurize(features)), \n",
    "    ('forest', RandomForestClassifier(n_estimators = 10))\n",
    "])\n",
    "\n",
    "pipeline.fit(X, y).predict(df_train)\n",
    "\n",
    "param_grid = dict(forest__n_estimators = [2, 16, 32], forest__criterion = ['gini', 'entropy'])\n",
    "\n",
    "grid_search = GridSearchCV(pipeline, param_grid=param_grid, scoring='accuracy')\n",
    "\n",
    "best_pipeline = grid_search.fit(X, y).best_estimator_\n",
    "best_pipeline.get_params()['forest']\n"
   ]
  },
  {
   "cell_type": "code",
   "execution_count": 29,
   "metadata": {},
   "outputs": [
    {
     "data": {
      "text/plain": [
       "(36210029, 10)"
      ]
     },
     "execution_count": 29,
     "metadata": {},
     "output_type": "execute_result"
    }
   ],
   "source": [
    "X_train.shape"
   ]
  },
  {
   "cell_type": "code",
   "execution_count": null,
   "metadata": {},
   "outputs": [],
   "source": []
  }
 ],
 "metadata": {
  "kernelspec": {
   "display_name": "Python 3",
   "language": "python",
   "name": "python3"
  },
  "language_info": {
   "codemirror_mode": {
    "name": "ipython",
    "version": 3
   },
   "file_extension": ".py",
   "mimetype": "text/x-python",
   "name": "python",
   "nbconvert_exporter": "python",
   "pygments_lexer": "ipython3",
   "version": "3.6.6"
  }
 },
 "nbformat": 4,
 "nbformat_minor": 2
}
